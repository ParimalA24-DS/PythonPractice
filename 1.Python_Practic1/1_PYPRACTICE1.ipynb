{
  "nbformat": 4,
  "nbformat_minor": 0,
  "metadata": {
    "colab": {
      "provenance": [],
      "gpuType": "T4"
    },
    "kernelspec": {
      "name": "python3",
      "display_name": "Python 3"
    },
    "language_info": {
      "name": "python"
    },
    "accelerator": "GPU"
  },
  "cells": [
    {
      "cell_type": "markdown",
      "source": [
        "# **PYTHON PRACTICE2024**\n",
        "- BASIC PYTHON\n",
        "- PART 1\n",
        "- PARIMAL AUTADE :DATA EXPLORER\n",
        " - - I'm a Data Explorer, gathering and analyzing data to uncover insights and trends\n",
        " - Refer for Interview"
      ],
      "metadata": {
        "id": "YB-mwIh-CVii"
      }
    },
    {
      "cell_type": "markdown",
      "source": [
        "**Practice some top interview questions answer**\n",
        "-  Refer YOUTUBE VIDEOS\n",
        "-  Refer Analyticsvidhya.com, interviewbit, javapoint.com"
      ],
      "metadata": {
        "id": "9KrfQ-K1DLqL"
      }
    },
    {
      "cell_type": "markdown",
      "source": [
        "## **I. BASICS PYTHON:**"
      ],
      "metadata": {
        "id": "PfewlBziDnDI"
      }
    },
    {
      "cell_type": "code",
      "execution_count": 1,
      "metadata": {
        "colab": {
          "base_uri": "https://localhost:8080/"
        },
        "id": "vZAIVS2KCEd-",
        "outputId": "f0d8267a-620e-438d-aada-9d2fefbaae68"
      },
      "outputs": [
        {
          "output_type": "stream",
          "name": "stdout",
          "text": [
            "hello world\n",
            "hello world\n"
          ]
        }
      ],
      "source": [
        "# first hello program:\n",
        "print(\"hello world\")\n",
        "print('hello world')\n"
      ]
    },
    {
      "cell_type": "code",
      "source": [
        "print('PYTHON simple langauge')"
      ],
      "metadata": {
        "colab": {
          "base_uri": "https://localhost:8080/"
        },
        "id": "0KnPfHSQEbYG",
        "outputId": "fabdaead-d7b3-4719-c439-f2adbb17b099"
      },
      "execution_count": 2,
      "outputs": [
        {
          "output_type": "stream",
          "name": "stdout",
          "text": [
            "PYTHON simple langauge\n"
          ]
        }
      ]
    },
    {
      "cell_type": "code",
      "source": [
        "#multiple lines:\n",
        "print(\"\"\"this is my python program\n",
        "Data journey is awsome \"\"\")"
      ],
      "metadata": {
        "colab": {
          "base_uri": "https://localhost:8080/"
        },
        "id": "0JDjJNc1Ekon",
        "outputId": "88e92523-00fa-44d5-cada-5803033c42d4"
      },
      "execution_count": 4,
      "outputs": [
        {
          "output_type": "stream",
          "name": "stdout",
          "text": [
            "this is my python program\n",
            "Data journey is awsome \n"
          ]
        }
      ]
    },
    {
      "cell_type": "code",
      "source": [
        "#or use \\n:multiple line\n",
        "print(\"this is my python program\\nData journey is awsome\")"
      ],
      "metadata": {
        "colab": {
          "base_uri": "https://localhost:8080/"
        },
        "id": "IvHaqrOvD6Z7",
        "outputId": "6627714d-ccaf-464f-d32a-5be8ff45a25f"
      },
      "execution_count": 7,
      "outputs": [
        {
          "output_type": "stream",
          "name": "stdout",
          "text": [
            "this is my python program\n",
            "Data journey is awsome\n"
          ]
        }
      ]
    },
    {
      "cell_type": "code",
      "source": [
        "# Comments in python :\n",
        "#singleline commet\n",
        "# multiple line comment\n"
      ],
      "metadata": {
        "id": "MO00bO1sFGHe"
      },
      "execution_count": 8,
      "outputs": []
    },
    {
      "cell_type": "code",
      "source": [
        "#I describe myself as a Data Explorer because, building on my previous experience,\n",
        "# I utilize my analytical skills and curiosity to uncover insights and trends within datasets, driving informed decision-making."
      ],
      "metadata": {
        "id": "Y1LdC2mkGIOb"
      },
      "execution_count": 12,
      "outputs": []
    },
    {
      "cell_type": "code",
      "source": [
        "\"\"\"I describe myself as a Data Explorer because, building on my previous experience,\n",
        "I utilize my analytical skills and curiosity to uncover insights and trends within datasets, driving informed decision-making.\n",
        "\"\"\""
      ],
      "metadata": {
        "colab": {
          "base_uri": "https://localhost:8080/",
          "height": 53
        },
        "id": "IbsqMKSWGZ9_",
        "outputId": "a3572ca2-99bb-4207-daf3-4ebd0d51021f"
      },
      "execution_count": 15,
      "outputs": [
        {
          "output_type": "execute_result",
          "data": {
            "text/plain": [
              "'I describe myself as a Data Explorer because, building on my previous experience,\\nI utilize my analytical skills and curiosity to uncover insights and trends within datasets, driving informed decision-making.\\n'"
            ],
            "application/vnd.google.colaboratory.intrinsic+json": {
              "type": "string"
            }
          },
          "metadata": {},
          "execution_count": 15
        }
      ]
    },
    {
      "cell_type": "markdown",
      "source": [
        "### **3.Variables:**\n",
        "-  A variable in Python is a named location used to store data in the memory\n",
        "- my_variable = 10\n",
        "- _variable = 5\n"
      ],
      "metadata": {
        "id": "SaO_LtwYG5e7"
      }
    },
    {
      "cell_type": "code",
      "source": [
        "# 1variable = 10  # This is incorrect\n",
        "#varaiblescannot start with numbers\n",
        "variable1 = 10  # Correct\n"
      ],
      "metadata": {
        "id": "P6Y7yw-2GaEk"
      },
      "execution_count": 16,
      "outputs": []
    },
    {
      "cell_type": "code",
      "source": [
        "#Case-sensitive (myVar and myvar are different variables):\n",
        "myVar = 5\n",
        "myvar = 10"
      ],
      "metadata": {
        "id": "Z6KUjXJIJTM1"
      },
      "execution_count": 17,
      "outputs": []
    },
    {
      "cell_type": "code",
      "source": [
        "# def = 10  # This is incorrect cannot use as keyword as varaibles\n",
        "my_def = 10  # Correct"
      ],
      "metadata": {
        "id": "Iu9ZWhwUJTS4"
      },
      "execution_count": 19,
      "outputs": []
    },
    {
      "cell_type": "markdown",
      "source": [
        "## **4.Data Types in Python:**\n",
        "- In Python, data types specify the type of data a variable holds"
      ],
      "metadata": {
        "id": "_f-5mwDSJmJx"
      }
    },
    {
      "cell_type": "code",
      "source": [
        "age = 25 #int\n",
        "price = 19.99 #float\n",
        "name = \"Ally\" #string\n",
        "is_student = True#bool"
      ],
      "metadata": {
        "id": "xE5NZxA9I43a"
      },
      "execution_count": 20,
      "outputs": []
    },
    {
      "cell_type": "code",
      "source": [
        "# check datatyepe :type()\n",
        "print(\"Data type of age:\", type(age))  # Output: <class 'int'>\n",
        "print(\"Data type of price:\", type(price))  # Output: <class 'float'>\n",
        "print(\"Data type of name:\", type(name))  # Output: <class 'str'>\n",
        "print(\"Data type of is_student:\", type(is_student))"
      ],
      "metadata": {
        "colab": {
          "base_uri": "https://localhost:8080/"
        },
        "id": "QUr7Fy7DKONH",
        "outputId": "7bda607e-23e7-46d5-f85e-cf425a28bc8c"
      },
      "execution_count": 22,
      "outputs": [
        {
          "output_type": "stream",
          "name": "stdout",
          "text": [
            "Data type of age: <class 'int'>\n",
            "Data type of price: <class 'float'>\n",
            "Data type of name: <class 'str'>\n",
            "Data type of is_student: <class 'bool'>\n"
          ]
        }
      ]
    },
    {
      "cell_type": "code",
      "source": [
        "# adavced datatype:\n",
        "# list ,tuple,set , dictionary\n",
        "#frozenset\n",
        "# practice in next file"
      ],
      "metadata": {
        "id": "2oBqZkawKReb"
      },
      "execution_count": 23,
      "outputs": []
    },
    {
      "cell_type": "markdown",
      "source": [
        "### **5.User input:**\n",
        "- input(\"\")"
      ],
      "metadata": {
        "id": "XwPnih5ZLDdg"
      }
    },
    {
      "cell_type": "code",
      "source": [
        "# input(): taking input from user side\n",
        "name=input(\"enter your name\")\n",
        "name"
      ],
      "metadata": {
        "colab": {
          "base_uri": "https://localhost:8080/",
          "height": 53
        },
        "id": "mmLH6TwBK55i",
        "outputId": "85e28613-f813-4b19-f07a-b52bd30e2e07"
      },
      "execution_count": 24,
      "outputs": [
        {
          "name": "stdout",
          "output_type": "stream",
          "text": [
            "enter your nameally\n"
          ]
        },
        {
          "output_type": "execute_result",
          "data": {
            "text/plain": [
              "'ally'"
            ],
            "application/vnd.google.colaboratory.intrinsic+json": {
              "type": "string"
            }
          },
          "metadata": {},
          "execution_count": 24
        }
      ]
    },
    {
      "cell_type": "code",
      "source": [
        "print(name)"
      ],
      "metadata": {
        "colab": {
          "base_uri": "https://localhost:8080/"
        },
        "id": "6Su0TDpCLc8y",
        "outputId": "cb6527dc-f584-41b8-a7a7-b307ce4bdafd"
      },
      "execution_count": 25,
      "outputs": [
        {
          "output_type": "stream",
          "name": "stdout",
          "text": [
            "ally\n"
          ]
        }
      ]
    },
    {
      "cell_type": "code",
      "source": [
        "# take input from user asnumber such integer,float\n",
        "n=int(input(\"enter your roll number\"))#integer"
      ],
      "metadata": {
        "colab": {
          "base_uri": "https://localhost:8080/"
        },
        "id": "iXnFsI72LhX8",
        "outputId": "64dec412-3c24-469f-d0d8-b8acc9baec9e"
      },
      "execution_count": 27,
      "outputs": [
        {
          "name": "stdout",
          "output_type": "stream",
          "text": [
            "enter your roll number2\n"
          ]
        }
      ]
    },
    {
      "cell_type": "code",
      "source": [
        "n"
      ],
      "metadata": {
        "colab": {
          "base_uri": "https://localhost:8080/"
        },
        "id": "4BULPYU_Lvyd",
        "outputId": "10fefb5f-ce42-4fec-c4bb-0ee2cba9a8a7"
      },
      "execution_count": 28,
      "outputs": [
        {
          "output_type": "execute_result",
          "data": {
            "text/plain": [
              "2"
            ]
          },
          "metadata": {},
          "execution_count": 28
        }
      ]
    },
    {
      "cell_type": "code",
      "source": [
        "n=float(input(\"enter your weight\")) #float\n",
        "print(n)"
      ],
      "metadata": {
        "colab": {
          "base_uri": "https://localhost:8080/"
        },
        "id": "CM2G16QlL1v5",
        "outputId": "50389d36-6fc2-41a4-d915-8193ff01a2f3"
      },
      "execution_count": 29,
      "outputs": [
        {
          "output_type": "stream",
          "name": "stdout",
          "text": [
            "enter your weight32.5\n",
            "32.5\n"
          ]
        }
      ]
    },
    {
      "cell_type": "code",
      "source": [
        "#eval()\n",
        "#he eval() function in Python evaluates a string as a Python expression\n",
        "user_input = input(\"Enter a mathematical expression (e.g., 3 + 4 * 2): \")\n",
        "\n",
        "# Using eval to evaluate the expression\n",
        "result = eval(user_input)\n",
        "\n",
        "# Printing the result\n",
        "print(\"The result of the expression is:\", result)\n"
      ],
      "metadata": {
        "colab": {
          "base_uri": "https://localhost:8080/"
        },
        "id": "WlTTMCtDMAHh",
        "outputId": "364027ac-1d5f-47eb-ad8d-bc522805380b"
      },
      "execution_count": 32,
      "outputs": [
        {
          "output_type": "stream",
          "name": "stdout",
          "text": [
            "Enter a mathematical expression (e.g., 3 + 4 * 2): 4-2+2\n",
            "The result of the expression is: 4\n"
          ]
        }
      ]
    },
    {
      "cell_type": "markdown",
      "source": [
        "### **6.Typecasating:**\n",
        "- Change one type into another type\n",
        "- Types of subcasting:2\n",
        "-- 1. Implicit\n",
        "-- 2. Explicit"
      ],
      "metadata": {
        "id": "veLvpT5MN2xi"
      }
    },
    {
      "cell_type": "code",
      "source": [
        "n=\"DATA\"\n",
        "print(\"typeof n\",type(n))"
      ],
      "metadata": {
        "colab": {
          "base_uri": "https://localhost:8080/"
        },
        "id": "hIN_tjjYMwa-",
        "outputId": "4c332ec6-f7ba-4904-964f-07a9c128284b"
      },
      "execution_count": 34,
      "outputs": [
        {
          "output_type": "stream",
          "name": "stdout",
          "text": [
            "typeof n <class 'str'>\n"
          ]
        }
      ]
    },
    {
      "cell_type": "code",
      "source": [
        "o=12\n",
        "print(\"typeof o\",type(o))"
      ],
      "metadata": {
        "colab": {
          "base_uri": "https://localhost:8080/"
        },
        "id": "us5E2KIvOdJV",
        "outputId": "2ea56572-3f13-42a7-8018-6156ce477f03"
      },
      "execution_count": 36,
      "outputs": [
        {
          "output_type": "stream",
          "name": "stdout",
          "text": [
            "typeof o <class 'int'>\n"
          ]
        }
      ]
    },
    {
      "cell_type": "code",
      "source": [
        "# Implicit\n",
        "a=12\n",
        "b=12.2\n",
        "print(a+b)\n",
        "print(type(a+b))#pythonitselfschages its data type"
      ],
      "metadata": {
        "colab": {
          "base_uri": "https://localhost:8080/"
        },
        "id": "xBKPYfnjOnGh",
        "outputId": "8a53774a-396f-4471-e170-dd578d1d7a62"
      },
      "execution_count": 38,
      "outputs": [
        {
          "output_type": "stream",
          "name": "stdout",
          "text": [
            "24.2\n",
            "<class 'float'>\n"
          ]
        }
      ]
    },
    {
      "cell_type": "code",
      "source": [
        "#Explicit:\n",
        "a=\"12\"\n",
        "b=2\n",
        "#c=a+b  directly not possible soconvert string into float or int type\n",
        "a=int(a)\n",
        "c=a+b\n",
        "print(c)"
      ],
      "metadata": {
        "colab": {
          "base_uri": "https://localhost:8080/"
        },
        "id": "V0fAehAwPE5N",
        "outputId": "23114359-605a-40b6-b4e9-353b88419d6d"
      },
      "execution_count": 39,
      "outputs": [
        {
          "output_type": "stream",
          "name": "stdout",
          "text": [
            "14\n"
          ]
        }
      ]
    },
    {
      "cell_type": "code",
      "source": [],
      "metadata": {
        "id": "T7jtklnTPwc1"
      },
      "execution_count": null,
      "outputs": []
    }
  ]
}